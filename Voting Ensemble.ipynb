{
 "cells": [
  {
   "cell_type": "code",
   "execution_count": 1,
   "id": "c24c1d64",
   "metadata": {},
   "outputs": [],
   "source": [
    "import pandas as pd\n",
    "import numpy as np\n",
    "\n",
    "from sklearn.model_selection import train_test_split\n",
    "\n",
    "from sklearn.ensemble import VotingClassifier\n",
    "from sklearn.tree import DecisionTreeClassifier\n",
    "from sklearn.svm import SVC\n",
    "from sklearn.linear_model import LogisticRegression\n",
    "from sklearn.ensemble import RandomForestClassifier\n",
    "from sklearn.neighbors import KNeighborsClassifier\n",
    "\n",
    "from sklearn.metrics import accuracy_score, confusion_matrix\n",
    "from sklearn.preprocessing import StandardScaler"
   ]
  },
  {
   "cell_type": "code",
   "execution_count": 2,
   "id": "13743a0d",
   "metadata": {},
   "outputs": [
    {
     "ename": "NameError",
     "evalue": "name 'X_train' is not defined",
     "output_type": "error",
     "traceback": [
      "\u001b[0;31m---------------------------------------------------------------------------\u001b[0m",
      "\u001b[0;31mNameError\u001b[0m                                 Traceback (most recent call last)",
      "Cell \u001b[0;32mIn[2], line 2\u001b[0m\n\u001b[1;32m      1\u001b[0m sc \u001b[38;5;241m=\u001b[39m StandardScaler()\n\u001b[0;32m----> 2\u001b[0m sc\u001b[38;5;241m.\u001b[39mfit_transform(\u001b[43mX_train\u001b[49m)\n\u001b[1;32m      3\u001b[0m sc\u001b[38;5;241m.\u001b[39mtransform(X_test)\n",
      "\u001b[0;31mNameError\u001b[0m: name 'X_train' is not defined"
     ]
    }
   ],
   "source": [
    "sc = StandardScaler()\n",
    "sc.fit_transform(X_train)\n",
    "sc.transform(X_test)"
   ]
  },
  {
   "cell_type": "code",
   "execution_count": 6,
   "id": "4cf87a06",
   "metadata": {},
   "outputs": [
    {
     "ename": "NameError",
     "evalue": "name 'accuracy' is not defined",
     "output_type": "error",
     "traceback": [
      "\u001b[0;31m---------------------------------------------------------------------------\u001b[0m",
      "\u001b[0;31mNameError\u001b[0m                                 Traceback (most recent call last)",
      "Cell \u001b[0;32mIn[6], line 34\u001b[0m\n\u001b[1;32m     30\u001b[0m     y_pred \u001b[38;5;241m=\u001b[39m voting_clf\u001b[38;5;241m.\u001b[39mpredict(X_test)\n\u001b[1;32m     32\u001b[0m \u001b[38;5;66;03m#     # Calculating accuracy\u001b[39;00m\n\u001b[1;32m     33\u001b[0m \u001b[38;5;66;03m#     accuracy = accuracy_score(y_test, y_pred)\u001b[39;00m\n\u001b[0;32m---> 34\u001b[0m     \u001b[38;5;28mprint\u001b[39m(\u001b[38;5;124mf\u001b[39m\u001b[38;5;124m'\u001b[39m\u001b[38;5;124mVoting Classifier accuracy: \u001b[39m\u001b[38;5;132;01m{\u001b[39;00m\u001b[43maccuracy\u001b[49m\u001b[38;5;132;01m:\u001b[39;00m\u001b[38;5;124m.2f\u001b[39m\u001b[38;5;132;01m}\u001b[39;00m\u001b[38;5;124m'\u001b[39m)\n\u001b[1;32m     36\u001b[0m     \u001b[38;5;66;03m# Calculating accuracy\u001b[39;00m\n\u001b[1;32m     37\u001b[0m     accuracy \u001b[38;5;241m=\u001b[39m accuracy_score(y_test, y_pred)\n",
      "\u001b[0;31mNameError\u001b[0m: name 'accuracy' is not defined"
     ]
    }
   ],
   "source": [
    "df = pd.read_csv('realheart.csv')\n",
    "\n",
    "X = df.drop(columns = 'target')\n",
    "y = df['target']\n",
    "\n",
    "accuracies = []\n",
    "iterations = 100\n",
    "\n",
    "for i in range(iterations):\n",
    "    \n",
    "#Splitting Data\n",
    "    X_train, X_test, y_train, y_test = train_test_split(X, y, test_size=0.2, random_state=42)\n",
    "\n",
    "    #Defining my Models\n",
    "    rf_clf = RandomForestClassifier(bootstrap = True, max_depth = 3, min_samples_leaf = 2, min_samples_split = 10,n_estimators =100)\n",
    "    dt_clf = DecisionTreeClassifier(max_depth = 3, splitter = 'random', min_samples_split = 8, min_samples_leaf = 5)\n",
    "    knn_clf = KNeighborsClassifier(n_neighbors = 10, weights = 'uniform', algorithm = 'kd_tree', leaf_size = 38, p =1) \n",
    "\n",
    "\n",
    "    # Combining the classifiers using a Voting Classifier\n",
    "    voting_clf = VotingClassifier(\n",
    "        estimators=[('rf', rf_clf), ('dt', dt_clf), ('knn', knn_clf)],\n",
    "        voting='soft'  \n",
    "    )\n",
    "\n",
    "    # Training the Voting Classifier\n",
    "    voting_clf.fit(X_train, y_train)\n",
    "\n",
    "    # Making predictions\n",
    "    y_pred = voting_clf.predict(X_test)\n",
    "\n",
    "#     # Calculating accuracy\n",
    "#     accuracy = accuracy_score(y_test, y_pred)\n",
    "    print(f'Voting Classifier accuracy: {accuracy:.2f}')\n",
    "    \n",
    "    # Calculating accuracy\n",
    "    accuracy = accuracy_score(y_test, y_pred)\n",
    "    accuracies.append(accuracy)\n",
    "\n",
    "accuracies = np.array(accuracies)\n",
    "\n",
    "# Print summary statistics\n",
    "print(f\"Mean Accuracy: {accuracies.mean()}\")\n",
    "print(f\"Standard Deviation: {accuracies.std()}\")\n",
    "print(f\"Minimum Accuracy: {accuracies.min()}\")\n",
    "print(f\"Maximum Accuracy: {accuracies.max()}\")\n",
    "\n",
    "import matplotlib.pyplot as plt\n",
    "\n",
    "plt.hist(accuracies, bins=10, edgecolor='k')\n",
    "plt.xlabel('Accuracy')\n",
    "plt.ylabel('Frequency')\n",
    "plt.title('Distribution of Accuracies over 100 Iterations')\n",
    "plt.show()"
   ]
  },
  {
   "cell_type": "code",
   "execution_count": 146,
   "id": "e7d008b0",
   "metadata": {},
   "outputs": [
    {
     "name": "stdout",
     "output_type": "stream",
     "text": [
      "[[27  4]\n",
      " [ 2 28]]\n"
     ]
    }
   ],
   "source": [
    "print(confusion_matrix(y_pred, y_test))"
   ]
  },
  {
   "cell_type": "code",
   "execution_count": null,
   "id": "592a9a7b",
   "metadata": {},
   "outputs": [],
   "source": []
  }
 ],
 "metadata": {
  "kernelspec": {
   "display_name": "Python 3 (ipykernel)",
   "language": "python",
   "name": "python3"
  },
  "language_info": {
   "codemirror_mode": {
    "name": "ipython",
    "version": 3
   },
   "file_extension": ".py",
   "mimetype": "text/x-python",
   "name": "python",
   "nbconvert_exporter": "python",
   "pygments_lexer": "ipython3",
   "version": "3.12.3"
  }
 },
 "nbformat": 4,
 "nbformat_minor": 5
}
